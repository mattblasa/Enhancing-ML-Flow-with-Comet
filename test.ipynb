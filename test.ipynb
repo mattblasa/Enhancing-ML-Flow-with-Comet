{
 "cells": [
  {
   "cell_type": "markdown",
   "id": "4cff7028-190f-4d84-9f00-209df848e738",
   "metadata": {},
   "source": [
    "# Notes"
   ]
  },
  {
   "cell_type": "markdown",
   "id": "090b4767-005f-4061-89e9-42585b6ee7e4",
   "metadata": {},
   "source": [
    "## Loading the Code"
   ]
  },
  {
   "cell_type": "markdown",
   "id": "a3edd686-2d6a-4c0a-9a88-9e09feb257fd",
   "metadata": {},
   "source": [
    "Comet_ML library and experiment must be run before mlflow and sklearn. They cannot be run in the same cell if you are using jupyter notebook "
   ]
  },
  {
   "cell_type": "markdown",
   "id": "500e684f-45b8-45d0-b4d2-75a8553d1c39",
   "metadata": {},
   "source": [
    "## Limitations of Comet"
   ]
  },
  {
   "cell_type": "markdown",
   "id": "6e6d9b92-2eb8-44c4-be0d-b4b868cfb6bb",
   "metadata": {
    "tags": []
   },
   "source": [
    "Note: \n",
    "Comet does not support \n",
    "* Does not support MLFlow nested runs.\n",
    "* Does not support continuing a previous MLFlow run. The MLFlow extension will create a new Comet Experiment in that case.\n"
   ]
  },
  {
   "cell_type": "markdown",
   "id": "4f76a908-aa95-403f-af31-b03ac1742e72",
   "metadata": {},
   "source": [
    "### Does not Support a Previous MLflow Run\n",
    "Ml flow usually contains multiple experiments in a run. However Comet's experiment tracking tool creates an experiment for each time the code is run. This can get very confusing, and should be noted or tagged for each experiments or in a notes. "
   ]
  },
  {
   "cell_type": "markdown",
   "id": "48adcfd9-e9a2-4ce8-bd2b-c9f503a31057",
   "metadata": {},
   "source": [
    "### Does not Support MLflow nested runs. \n",
    "This means that you cannot use the with statement to run the MLflow code. It must be outside of the with statement. Mlflow runs that are enhanced using Comet need to be denested."
   ]
  },
  {
   "cell_type": "markdown",
   "id": "014bb2ae-5f30-4e72-a58f-d87cb8754287",
   "metadata": {},
   "source": [
    "# Code"
   ]
  },
  {
   "cell_type": "code",
   "execution_count": 1,
   "id": "9847c7c3-e988-4965-847d-1743b28af857",
   "metadata": {},
   "outputs": [],
   "source": [
    "import os\n",
    "import warnings\n",
    "import sys\n",
    "\n",
    "import pandas as pd\n",
    "import numpy as np\n",
    "\n",
    "\n",
    "# Import comet_ml at the top of your file - these must be imported before sklearn or mlflow\n",
    "from comet_ml import Experiment\n",
    "import comet_ml"
   ]
  },
  {
   "cell_type": "code",
   "execution_count": 2,
   "id": "8f022527-b58a-488b-a2ad-1bff6bbcec0f",
   "metadata": {},
   "outputs": [],
   "source": [
    "\n",
    "import mlflow\n",
    "import mlflow.sklearn\n",
    "\n",
    "from sklearn.metrics import mean_squared_error, mean_absolute_error, r2_score\n",
    "from sklearn.model_selection import train_test_split\n",
    "from sklearn.linear_model import ElasticNet\n"
   ]
  },
  {
   "cell_type": "code",
   "execution_count": 3,
   "id": "3792e3ba-44fe-4c1a-87c6-3bc1a1040858",
   "metadata": {},
   "outputs": [
    {
     "name": "stderr",
     "output_type": "stream",
     "text": [
      "COMET WARNING: As you are running in a Jupyter environment, you will need to call `experiment.end()` when finished to ensure all metrics and code are logged before exiting.\n",
      "COMET INFO: Experiment is live on comet.ml https://www.comet.ml/mattblasa/comet-mlflow/a83dbe6663c6401581f7054e644124d2\n",
      "\n"
     ]
    }
   ],
   "source": [
    "# Create an experiment with your api key\n",
    "experiment = Experiment(\n",
    "    api_key=\"xCeYnrykwJF1pzF0Rfj8UEzR2\",\n",
    "    project_name=\"comet_mlflow\", \n",
    "    workspace=\"mattblasa\",\n",
    "    log_code = True\n",
    ")\n"
   ]
  },
  {
   "cell_type": "code",
   "execution_count": 4,
   "id": "9457b55c-7f26-4790-a2d7-7c0d3f236836",
   "metadata": {},
   "outputs": [],
   "source": [
    "def eval_metrics(actual, pred):\n",
    "    rmse = np.sqrt(mean_squared_error(actual, pred))\n",
    "    mae = mean_absolute_error(actual, pred)\n",
    "    r2 = r2_score(actual, pred)\n",
    "    return rmse, mae, r2\n"
   ]
  },
  {
   "cell_type": "code",
   "execution_count": 5,
   "id": "ebac9523-babf-4f86-b233-4612bb1add0e",
   "metadata": {},
   "outputs": [
    {
     "name": "stderr",
     "output_type": "stream",
     "text": [
      "COMET INFO: ---------------------------\n",
      "COMET INFO: Comet.ml Experiment Summary\n",
      "COMET INFO: ---------------------------\n",
      "COMET INFO:   Data:\n",
      "COMET INFO:     display_summary_level : 1\n",
      "COMET INFO:     url                   : https://www.comet.ml/mattblasa/comet-mlflow/a83dbe6663c6401581f7054e644124d2\n",
      "COMET INFO:   Uploads:\n",
      "COMET INFO:     environment details : 1\n",
      "COMET INFO:     filename            : 1\n",
      "COMET INFO:     installed packages  : 1\n",
      "COMET INFO: ---------------------------\n",
      "COMET WARNING: As you are running in a Jupyter environment, you will need to call `experiment.end()` when finished to ensure all metrics and code are logged before exiting.\n",
      "COMET INFO: Experiment is live on comet.ml https://www.comet.ml/mattblasa/general/a17e0b4fb41b41e6beb6e825abe72c48\n",
      "\n"
     ]
    },
    {
     "name": "stdout",
     "output_type": "stream",
     "text": [
      "Elasticnet model (alpha=0.000000, l1_ratio=0.000000):\n",
      "  RMSE: 0.7424162938559533\n",
      "  MAE: 0.5775168907128393\n",
      "  R2: 0.2881067715835024\n"
     ]
    },
    {
     "name": "stderr",
     "output_type": "stream",
     "text": [
      "COMET INFO: ---------------------------\n",
      "COMET INFO: Comet.ml Experiment Summary\n",
      "COMET INFO: ---------------------------\n",
      "COMET INFO:   Data:\n",
      "COMET INFO:     display_summary_level : 1\n",
      "COMET INFO:     url                   : https://www.comet.ml/mattblasa/general/a17e0b4fb41b41e6beb6e825abe72c48\n",
      "COMET INFO:   Metrics:\n",
      "COMET INFO:     mae  : 0.5775168907128393\n",
      "COMET INFO:     r2   : 0.2881067715835024\n",
      "COMET INFO:     rmse : 0.7424162938559533\n",
      "COMET INFO:   Others:\n",
      "COMET INFO:     Created from : MLFlow auto-logger\n",
      "COMET INFO:   Parameters:\n",
      "COMET INFO:     alpha    : 0\n",
      "COMET INFO:     l1_ratio : 0\n",
      "COMET INFO:   Uploads:\n",
      "COMET INFO:     asset               : 4 (1.29 KB)\n",
      "COMET INFO:     environment details : 1\n",
      "COMET INFO:     filename            : 1\n",
      "COMET INFO:     installed packages  : 1\n",
      "COMET INFO:     notebook            : 1\n",
      "COMET INFO:     source_code         : 1\n",
      "COMET INFO: ---------------------------\n",
      "COMET INFO: Uploading metrics, params, and assets to Comet before program termination (may take several seconds)\n",
      "COMET INFO: The Python SDK has 3600 seconds to finish before aborting...\n",
      "COMET INFO: Waiting for completion of the file uploads (may take several seconds)\n",
      "COMET INFO: The Python SDK has 10800 seconds to finish before aborting...\n",
      "COMET INFO: Still uploading 2 file(s), remaining 366 bytes/7.21 KB\n"
     ]
    }
   ],
   "source": [
    "warnings.filterwarnings(\"ignore\")\n",
    "np.random.seed(40)\n",
    "\n",
    "# Read the wine-quality csv file (make sure you're running this from the root of MLflow!)\n",
    "\n",
    "data = pd.read_csv('wine-quality.csv')\n",
    "\n",
    "# Split the data into training and test sets. (0.75, 0.25) split.\n",
    "train, test = train_test_split(data)\n",
    "\n",
    "# The predicted column is \"quality\" which is a scalar from [3, 9]\n",
    "train_x = train.drop([\"quality\"], axis=1)\n",
    "test_x = test.drop([\"quality\"], axis=1)\n",
    "train_y = train[[\"quality\"]]\n",
    "test_y = test[[\"quality\"]]\n",
    "\n",
    "#alpha = float(sys.argv[1]) if len(sys.argv) > 1 else 0.5\n",
    "#l1_ratio = float(sys.argv[2]) if len(sys.argv) > 2 else 0.5\n",
    "\n",
    "alpha = 0 \n",
    "l1_ratio = 0\n",
    "\n",
    "with mlflow.start_run():\n",
    "    lr = ElasticNet(alpha=alpha, l1_ratio=l1_ratio, random_state=42)\n",
    "    lr.fit(train_x, train_y)\n",
    "\n",
    "    predicted_qualities = lr.predict(test_x)\n",
    "\n",
    "    (rmse, mae, r2) = eval_metrics(test_y, predicted_qualities)\n",
    "\n",
    "    print(\"Elasticnet model (alpha=%f, l1_ratio=%f):\" % (alpha, l1_ratio))\n",
    "    print(\"  RMSE: %s\" % rmse)\n",
    "    print(\"  MAE: %s\" % mae)\n",
    "    print(\"  R2: %s\" % r2)\n",
    "\n",
    "    mlflow.log_param(\"alpha\", alpha)\n",
    "    mlflow.log_param(\"l1_ratio\", l1_ratio)\n",
    "    mlflow.log_metric(\"rmse\", rmse)\n",
    "    mlflow.log_metric(\"r2\", r2)\n",
    "    mlflow.log_metric(\"mae\", mae)\n",
    "\n",
    "    mlflow.sklearn.log_model(lr, \"model\")"
   ]
  },
  {
   "cell_type": "markdown",
   "id": "32353b39-9b0c-4d48-b512-9e661c4e0172",
   "metadata": {},
   "source": [
    "# Model Building"
   ]
  },
  {
   "cell_type": "code",
   "execution_count": null,
   "id": "2000dd60-b063-45a0-9ed3-eb882fa40caa",
   "metadata": {},
   "outputs": [],
   "source": [
    "mlflow.log_metric(\"score\", score)\n",
    "mlflow.sklearn.log_model(lr, \"model\")"
   ]
  },
  {
   "cell_type": "code",
   "execution_count": null,
   "id": "ce25cfd1-4b75-4eb9-8b53-75f5f125f0fa",
   "metadata": {},
   "outputs": [],
   "source": [
    "print(\"Model saved in run %s\" % mlflow.active_run().info.run_uuid)"
   ]
  }
 ],
 "metadata": {
  "kernelspec": {
   "display_name": "Python 3",
   "language": "python",
   "name": "python3"
  },
  "language_info": {
   "codemirror_mode": {
    "name": "ipython",
    "version": 3
   },
   "file_extension": ".py",
   "mimetype": "text/x-python",
   "name": "python",
   "nbconvert_exporter": "python",
   "pygments_lexer": "ipython3",
   "version": "3.8.5"
  }
 },
 "nbformat": 4,
 "nbformat_minor": 5
}
